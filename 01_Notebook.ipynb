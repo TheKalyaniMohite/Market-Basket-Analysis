{
 "cells": [
  {
   "cell_type": "code",
   "execution_count": 1,
   "id": "57970235-5e0b-46bf-b766-2494a4255977",
   "metadata": {},
   "outputs": [
    {
     "name": "stdout",
     "output_type": "stream",
     "text": [
      "Orders: (3421083, 7)\n",
      "Prior items: (32434489, 4)\n",
      "Products: (49688, 4)\n"
     ]
    },
    {
     "data": {
      "text/html": [
       "<div>\n",
       "<style scoped>\n",
       "    .dataframe tbody tr th:only-of-type {\n",
       "        vertical-align: middle;\n",
       "    }\n",
       "\n",
       "    .dataframe tbody tr th {\n",
       "        vertical-align: top;\n",
       "    }\n",
       "\n",
       "    .dataframe thead th {\n",
       "        text-align: right;\n",
       "    }\n",
       "</style>\n",
       "<table border=\"1\" class=\"dataframe\">\n",
       "  <thead>\n",
       "    <tr style=\"text-align: right;\">\n",
       "      <th></th>\n",
       "      <th>order_id</th>\n",
       "      <th>user_id</th>\n",
       "      <th>eval_set</th>\n",
       "      <th>order_number</th>\n",
       "      <th>order_dow</th>\n",
       "      <th>order_hour_of_day</th>\n",
       "      <th>days_since_prior_order</th>\n",
       "    </tr>\n",
       "  </thead>\n",
       "  <tbody>\n",
       "    <tr>\n",
       "      <th>0</th>\n",
       "      <td>2539329</td>\n",
       "      <td>1</td>\n",
       "      <td>prior</td>\n",
       "      <td>1</td>\n",
       "      <td>2</td>\n",
       "      <td>8</td>\n",
       "      <td>NaN</td>\n",
       "    </tr>\n",
       "    <tr>\n",
       "      <th>1</th>\n",
       "      <td>2398795</td>\n",
       "      <td>1</td>\n",
       "      <td>prior</td>\n",
       "      <td>2</td>\n",
       "      <td>3</td>\n",
       "      <td>7</td>\n",
       "      <td>15.0</td>\n",
       "    </tr>\n",
       "    <tr>\n",
       "      <th>2</th>\n",
       "      <td>473747</td>\n",
       "      <td>1</td>\n",
       "      <td>prior</td>\n",
       "      <td>3</td>\n",
       "      <td>3</td>\n",
       "      <td>12</td>\n",
       "      <td>21.0</td>\n",
       "    </tr>\n",
       "    <tr>\n",
       "      <th>3</th>\n",
       "      <td>2254736</td>\n",
       "      <td>1</td>\n",
       "      <td>prior</td>\n",
       "      <td>4</td>\n",
       "      <td>4</td>\n",
       "      <td>7</td>\n",
       "      <td>29.0</td>\n",
       "    </tr>\n",
       "    <tr>\n",
       "      <th>4</th>\n",
       "      <td>431534</td>\n",
       "      <td>1</td>\n",
       "      <td>prior</td>\n",
       "      <td>5</td>\n",
       "      <td>4</td>\n",
       "      <td>15</td>\n",
       "      <td>28.0</td>\n",
       "    </tr>\n",
       "  </tbody>\n",
       "</table>\n",
       "</div>"
      ],
      "text/plain": [
       "   order_id  user_id eval_set  order_number  order_dow  order_hour_of_day  \\\n",
       "0   2539329        1    prior             1          2                  8   \n",
       "1   2398795        1    prior             2          3                  7   \n",
       "2    473747        1    prior             3          3                 12   \n",
       "3   2254736        1    prior             4          4                  7   \n",
       "4    431534        1    prior             5          4                 15   \n",
       "\n",
       "   days_since_prior_order  \n",
       "0                     NaN  \n",
       "1                    15.0  \n",
       "2                    21.0  \n",
       "3                    29.0  \n",
       "4                    28.0  "
      ]
     },
     "execution_count": 1,
     "metadata": {},
     "output_type": "execute_result"
    }
   ],
   "source": [
    "import pandas as pd\n",
    "from mlxtend.frequent_patterns import apriori, association_rules\n",
    "import matplotlib.pyplot as plt\n",
    "\n",
    "orders         = pd.read_csv('Dataset/orders.csv')\n",
    "prior_products = pd.read_csv('Dataset/order_products__prior.csv')\n",
    "products       = pd.read_csv('Dataset/products.csv')\n",
    "aisles         = pd.read_csv('Dataset/aisles.csv')\n",
    "\n",
    "print(\"Orders:\", orders.shape)\n",
    "print(\"Prior items:\", prior_products.shape)\n",
    "print(\"Products:\", products.shape)\n",
    "orders.head()\n"
   ]
  },
  {
   "cell_type": "code",
   "execution_count": 2,
   "id": "eb272b44-be0c-4eb3-8cb7-4d8239b4cd03",
   "metadata": {},
   "outputs": [
    {
     "name": "stdout",
     "output_type": "stream",
     "text": [
      "Filtered prior_products: (19776345, 4)\n"
     ]
    }
   ],
   "source": [
    "orders = orders[orders.eval_set == 'prior'].copy()\n",
    "prior_products = prior_products.dropna(subset=['product_id'])\n",
    "top_prods = prior_products['product_id'].value_counts().nlargest(1500).index\n",
    "prior_products = prior_products[prior_products.product_id.isin(top_prods)]\n",
    "print(\"Filtered prior_products:\", prior_products.shape)\n"
   ]
  },
  {
   "cell_type": "code",
   "execution_count": 3,
   "id": "355c8b10-621d-4806-9194-b2816e865794",
   "metadata": {},
   "outputs": [
    {
     "data": {
      "text/html": [
       "<div>\n",
       "<style scoped>\n",
       "    .dataframe tbody tr th:only-of-type {\n",
       "        vertical-align: middle;\n",
       "    }\n",
       "\n",
       "    .dataframe tbody tr th {\n",
       "        vertical-align: top;\n",
       "    }\n",
       "\n",
       "    .dataframe thead th {\n",
       "        text-align: right;\n",
       "    }\n",
       "</style>\n",
       "<table border=\"1\" class=\"dataframe\">\n",
       "  <thead>\n",
       "    <tr style=\"text-align: right;\">\n",
       "      <th></th>\n",
       "      <th>order_id</th>\n",
       "      <th>product_id</th>\n",
       "      <th>add_to_cart_order</th>\n",
       "      <th>reordered</th>\n",
       "      <th>aisle_id</th>\n",
       "      <th>aisle</th>\n",
       "    </tr>\n",
       "  </thead>\n",
       "  <tbody>\n",
       "    <tr>\n",
       "      <th>0</th>\n",
       "      <td>2</td>\n",
       "      <td>33120</td>\n",
       "      <td>1</td>\n",
       "      <td>1</td>\n",
       "      <td>86</td>\n",
       "      <td>eggs</td>\n",
       "    </tr>\n",
       "    <tr>\n",
       "      <th>1</th>\n",
       "      <td>2</td>\n",
       "      <td>28985</td>\n",
       "      <td>2</td>\n",
       "      <td>1</td>\n",
       "      <td>83</td>\n",
       "      <td>fresh vegetables</td>\n",
       "    </tr>\n",
       "    <tr>\n",
       "      <th>2</th>\n",
       "      <td>2</td>\n",
       "      <td>9327</td>\n",
       "      <td>3</td>\n",
       "      <td>0</td>\n",
       "      <td>104</td>\n",
       "      <td>spices seasonings</td>\n",
       "    </tr>\n",
       "    <tr>\n",
       "      <th>3</th>\n",
       "      <td>2</td>\n",
       "      <td>17794</td>\n",
       "      <td>6</td>\n",
       "      <td>1</td>\n",
       "      <td>83</td>\n",
       "      <td>fresh vegetables</td>\n",
       "    </tr>\n",
       "    <tr>\n",
       "      <th>4</th>\n",
       "      <td>3</td>\n",
       "      <td>33754</td>\n",
       "      <td>1</td>\n",
       "      <td>1</td>\n",
       "      <td>120</td>\n",
       "      <td>yogurt</td>\n",
       "    </tr>\n",
       "  </tbody>\n",
       "</table>\n",
       "</div>"
      ],
      "text/plain": [
       "   order_id  product_id  add_to_cart_order  reordered  aisle_id  \\\n",
       "0         2       33120                  1          1        86   \n",
       "1         2       28985                  2          1        83   \n",
       "2         2        9327                  3          0       104   \n",
       "3         2       17794                  6          1        83   \n",
       "4         3       33754                  1          1       120   \n",
       "\n",
       "               aisle  \n",
       "0               eggs  \n",
       "1   fresh vegetables  \n",
       "2  spices seasonings  \n",
       "3   fresh vegetables  \n",
       "4             yogurt  "
      ]
     },
     "execution_count": 3,
     "metadata": {},
     "output_type": "execute_result"
    }
   ],
   "source": [
    "prior_items_aisle = (\n",
    "    prior_products\n",
    "      .merge(products[['product_id','aisle_id']], on='product_id', how='left')\n",
    "      .merge(aisles, on='aisle_id', how='left')\n",
    ")\n",
    "prior_items_aisle.head()\n"
   ]
  },
  {
   "cell_type": "code",
   "execution_count": null,
   "id": "f734c3a9-abc3-42f9-a944-30e1bbc7d500",
   "metadata": {},
   "outputs": [],
   "source": [
    "basket_aisle = (\n",
    "    prior_items_aisle\n",
    "      .groupby(['order_id','aisle'])['product_id']\n",
    "      .count()\n",
    "      .unstack(fill_value=0)\n",
    "      .astype(bool)\n",
    ")\n",
    "print(\"Aisle-basket shape:\", basket_aisle.shape)\n",
    "basket_aisle.head()\n"
   ]
  },
  {
   "cell_type": "code",
   "execution_count": null,
   "id": "cf7c1381-fd5e-44a8-8cc5-9072da49775a",
   "metadata": {},
   "outputs": [],
   "source": [
    "sampled = basket_aisle.sample(n=100_000, random_state=42)\n",
    "print(\"Sampled basket shape:\", sampled.shape)\n"
   ]
  },
  {
   "cell_type": "code",
   "execution_count": null,
   "id": "a831807c-89b7-4211-b98d-fe0bb820bac7",
   "metadata": {},
   "outputs": [],
   "source": [
    "freq_aisles = apriori(sampled, min_support=0.01, use_colnames=True)\n",
    "aisle_rules = association_rules(freq_aisles, metric=\"confidence\", min_threshold=0.3)\n",
    "top_10_aisle = aisle_rules.nlargest(10, 'lift')[[\n",
    "    'antecedents','consequents','support','confidence','lift'\n",
    "]]\n",
    "top_10_aisle\n"
   ]
  },
  {
   "cell_type": "code",
   "execution_count": null,
   "id": "6dddbd28-b723-4f3f-9295-28a50d4a1540",
   "metadata": {},
   "outputs": [],
   "source": [
    "labels = [f\"{set(a)} → {set(c)}\" for a,c in zip(top_10_aisle.antecedents, top_10_aisle.consequents)]\n",
    "plt.figure(figsize=(8,5))\n",
    "plt.barh(labels, top_10_aisle.lift)\n",
    "plt.xlabel('Lift')\n",
    "plt.title('Top 10 Aisle-Level Rules (Sampled)')\n",
    "plt.tight_layout()\n",
    "plt.show()\n"
   ]
  }
 ],
 "metadata": {
  "kernelspec": {
   "display_name": "Python 3 (ipykernel)",
   "language": "python",
   "name": "python3"
  },
  "language_info": {
   "codemirror_mode": {
    "name": "ipython",
    "version": 3
   },
   "file_extension": ".py",
   "mimetype": "text/x-python",
   "name": "python",
   "nbconvert_exporter": "python",
   "pygments_lexer": "ipython3",
   "version": "3.12.6"
  }
 },
 "nbformat": 4,
 "nbformat_minor": 5
}
